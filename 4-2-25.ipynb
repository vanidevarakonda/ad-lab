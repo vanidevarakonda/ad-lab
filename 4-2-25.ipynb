{
 "cells": [
  {
   "cell_type": "code",
   "execution_count": 6,
   "id": "978a9e7c",
   "metadata": {},
   "outputs": [
    {
     "name": "stdout",
     "output_type": "stream",
     "text": [
      "Requirement already satisfied: emot in c:\\users\\shivani\\.ms-ad\\lib\\site-packages (3.1)\n"
     ]
    }
   ],
   "source": [
    "!pip install emot"
   ]
  },
  {
   "cell_type": "code",
   "execution_count": 10,
   "id": "3f2a2a4e",
   "metadata": {},
   "outputs": [],
   "source": [
    "text1 = \"what are you saying😂,I am the boss😎,and why are you so🥲 \""
   ]
  },
  {
   "cell_type": "code",
   "execution_count": 11,
   "id": "c61fec7b",
   "metadata": {},
   "outputs": [],
   "source": [
    "import re\n",
    "from emot.emo_unicode import UNICODE_EMOJI\n",
    "from emot.emo_unicode import EMOTICONS_EMO"
   ]
  },
  {
   "cell_type": "code",
   "execution_count": 14,
   "id": "066c3c60",
   "metadata": {},
   "outputs": [
    {
     "data": {
      "text/plain": [
       "'what are you sayingface_with_tears_of_joy,I am the bosssmiling_face_with_sunglasses,and why are you sosmiling_face_with_tear '"
      ]
     },
     "execution_count": 14,
     "metadata": {},
     "output_type": "execute_result"
    }
   ],
   "source": [
    "\n",
    "def converting_emojis(text):\n",
    "    for emot in UNICODE_EMOJI:\n",
    "        text = text.replace(emot, \"_\".join(UNICODE_EMOJI[emot].replace(\",\", \"\").replace(\":\", \"\").split()))\n",
    "    return text\n",
    "\n",
    "\n",
    "converting_emojis(text1)\n"
   ]
  },
  {
   "cell_type": "code",
   "execution_count": 16,
   "id": "213a01cf",
   "metadata": {},
   "outputs": [
    {
     "data": {
      "text/plain": [
       "'what are you saying,I am the boss,and why are you so '"
      ]
     },
     "execution_count": 16,
     "metadata": {},
     "output_type": "execute_result"
    }
   ],
   "source": [
    "def emoji_removal(string):\n",
    "    emoji_unicodes = re.compile(\n",
    "    \"[\" \n",
    "    u\"\\U0001F600-\\U0001F64F\"   \n",
    "    u\"\\U0001F300-\\U0001F5FF\"   \n",
    "    u\"\\U0001F680-\\U0001F6FF\"  \n",
    "    u\"\\U0001F1E0-\\U0001F1FF\"  \n",
    "    u\"\\U00002500-\\U00002BEF\"  \n",
    "    u\"\\U00002702-\\U000027B0\"  \n",
    "    u\"\\U000024C2-\\U0001F251\"  \n",
    "    u\"\\U0001f926-\\U0001f937\"  \n",
    "    u\"\\U00010000-\\U0010ffff\"  \n",
    "    u\"\\u2640-\\u2642\"  \n",
    "    u\"\\u2600-\\u2B55\"  \n",
    "    u\"\\u200d\"  \n",
    "    u\"\\u23cf\"  \n",
    "    u\"\\u23e9\"  \n",
    "    u\"\\u231a\"  \n",
    "    u\"\\ufe0f\"  \n",
    "    u\"\\u3030\"\n",
    "    \"]+\", flags=re.UNICODE)\n",
    "    return emoji_unicodes.sub(r'',string)\n",
    "emoji_removal(text1)\n",
    "\n"
   ]
  },
  {
   "cell_type": "code",
   "execution_count": null,
   "id": "04f2e368",
   "metadata": {},
   "outputs": [],
   "source": []
  }
 ],
 "metadata": {
  "kernelspec": {
   "display_name": "Python 3 (ipykernel)",
   "language": "python",
   "name": "python3"
  },
  "language_info": {
   "codemirror_mode": {
    "name": "ipython",
    "version": 3
   },
   "file_extension": ".py",
   "mimetype": "text/x-python",
   "name": "python",
   "nbconvert_exporter": "python",
   "pygments_lexer": "ipython3",
   "version": "3.11.5"
  }
 },
 "nbformat": 4,
 "nbformat_minor": 5
}
