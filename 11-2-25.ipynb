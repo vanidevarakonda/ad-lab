{
 "cells": [
  {
   "cell_type": "code",
   "execution_count": 1,
   "id": "8b5d41ae",
   "metadata": {},
   "outputs": [
    {
     "name": "stdout",
     "output_type": "stream",
     "text": [
      "Requirement already satisfied: pytextrank in c:\\users\\shivani\\.ms-ad\\lib\\site-packages (3.3.0)\n",
      "Requirement already satisfied: GitPython>=3.1 in c:\\users\\shivani\\.ms-ad\\lib\\site-packages (from pytextrank) (3.1.44)\n",
      "Requirement already satisfied: graphviz>=0.13 in c:\\users\\shivani\\.ms-ad\\lib\\site-packages (from pytextrank) (0.20.3)\n",
      "Requirement already satisfied: icecream>=2.1 in c:\\users\\shivani\\.ms-ad\\lib\\site-packages (from pytextrank) (2.1.4)\n",
      "Requirement already satisfied: networkx[default]>=2.6 in c:\\users\\shivani\\.ms-ad\\lib\\site-packages (from pytextrank) (3.1)\n",
      "Requirement already satisfied: pygments>=2.7.4 in c:\\users\\shivani\\.ms-ad\\lib\\site-packages (from pytextrank) (2.15.1)\n",
      "Requirement already satisfied: scipy>=1.7 in c:\\users\\shivani\\.ms-ad\\lib\\site-packages (from pytextrank) (1.11.1)\n",
      "Requirement already satisfied: spacy>=3.0 in c:\\users\\shivani\\.ms-ad\\lib\\site-packages (from pytextrank) (3.8.4)\n",
      "Requirement already satisfied: gitdb<5,>=4.0.1 in c:\\users\\shivani\\.ms-ad\\lib\\site-packages (from GitPython>=3.1->pytextrank) (4.0.12)\n",
      "Requirement already satisfied: colorama>=0.3.9 in c:\\users\\shivani\\.ms-ad\\lib\\site-packages (from icecream>=2.1->pytextrank) (0.4.6)\n",
      "Requirement already satisfied: executing>=2.1.0 in c:\\users\\shivani\\.ms-ad\\lib\\site-packages (from icecream>=2.1->pytextrank) (2.2.0)\n",
      "Requirement already satisfied: asttokens>=2.0.1 in c:\\users\\shivani\\.ms-ad\\lib\\site-packages (from icecream>=2.1->pytextrank) (2.0.5)\n",
      "Requirement already satisfied: numpy>=1.20 in c:\\users\\shivani\\.ms-ad\\lib\\site-packages (from networkx[default]>=2.6->pytextrank) (1.24.3)\n",
      "Requirement already satisfied: matplotlib>=3.4 in c:\\users\\shivani\\.ms-ad\\lib\\site-packages (from networkx[default]>=2.6->pytextrank) (3.7.2)\n",
      "Requirement already satisfied: pandas>=1.3 in c:\\users\\shivani\\.ms-ad\\lib\\site-packages (from networkx[default]>=2.6->pytextrank) (2.0.3)\n",
      "Requirement already satisfied: spacy-legacy<3.1.0,>=3.0.11 in c:\\users\\shivani\\.ms-ad\\lib\\site-packages (from spacy>=3.0->pytextrank) (3.0.12)\n",
      "Requirement already satisfied: spacy-loggers<2.0.0,>=1.0.0 in c:\\users\\shivani\\.ms-ad\\lib\\site-packages (from spacy>=3.0->pytextrank) (1.0.5)\n",
      "Requirement already satisfied: murmurhash<1.1.0,>=0.28.0 in c:\\users\\shivani\\.ms-ad\\lib\\site-packages (from spacy>=3.0->pytextrank) (1.0.12)\n",
      "Requirement already satisfied: cymem<2.1.0,>=2.0.2 in c:\\users\\shivani\\.ms-ad\\lib\\site-packages (from spacy>=3.0->pytextrank) (2.0.11)\n",
      "Requirement already satisfied: preshed<3.1.0,>=3.0.2 in c:\\users\\shivani\\.ms-ad\\lib\\site-packages (from spacy>=3.0->pytextrank) (3.0.9)\n",
      "Requirement already satisfied: thinc<8.4.0,>=8.3.4 in c:\\users\\shivani\\.ms-ad\\lib\\site-packages (from spacy>=3.0->pytextrank) (8.3.4)\n",
      "Requirement already satisfied: wasabi<1.2.0,>=0.9.1 in c:\\users\\shivani\\.ms-ad\\lib\\site-packages (from spacy>=3.0->pytextrank) (1.1.3)\n",
      "Requirement already satisfied: srsly<3.0.0,>=2.4.3 in c:\\users\\shivani\\.ms-ad\\lib\\site-packages (from spacy>=3.0->pytextrank) (2.5.1)\n",
      "Requirement already satisfied: catalogue<2.1.0,>=2.0.6 in c:\\users\\shivani\\.ms-ad\\lib\\site-packages (from spacy>=3.0->pytextrank) (2.0.10)\n",
      "Requirement already satisfied: weasel<0.5.0,>=0.1.0 in c:\\users\\shivani\\.ms-ad\\lib\\site-packages (from spacy>=3.0->pytextrank) (0.4.1)\n",
      "Requirement already satisfied: typer<1.0.0,>=0.3.0 in c:\\users\\shivani\\.ms-ad\\lib\\site-packages (from spacy>=3.0->pytextrank) (0.15.1)\n",
      "Requirement already satisfied: tqdm<5.0.0,>=4.38.0 in c:\\users\\shivani\\.ms-ad\\lib\\site-packages (from spacy>=3.0->pytextrank) (4.65.0)\n",
      "Requirement already satisfied: requests<3.0.0,>=2.13.0 in c:\\users\\shivani\\.ms-ad\\lib\\site-packages (from spacy>=3.0->pytextrank) (2.31.0)\n",
      "Requirement already satisfied: pydantic!=1.8,!=1.8.1,<3.0.0,>=1.7.4 in c:\\users\\shivani\\.ms-ad\\lib\\site-packages (from spacy>=3.0->pytextrank) (1.10.8)\n",
      "Requirement already satisfied: jinja2 in c:\\users\\shivani\\.ms-ad\\lib\\site-packages (from spacy>=3.0->pytextrank) (3.1.2)\n",
      "Requirement already satisfied: setuptools in c:\\users\\shivani\\.ms-ad\\lib\\site-packages (from spacy>=3.0->pytextrank) (68.0.0)\n",
      "Requirement already satisfied: packaging>=20.0 in c:\\users\\shivani\\.ms-ad\\lib\\site-packages (from spacy>=3.0->pytextrank) (23.1)\n",
      "Requirement already satisfied: langcodes<4.0.0,>=3.2.0 in c:\\users\\shivani\\.ms-ad\\lib\\site-packages (from spacy>=3.0->pytextrank) (3.5.0)\n",
      "Requirement already satisfied: six in c:\\users\\shivani\\.ms-ad\\lib\\site-packages (from asttokens>=2.0.1->icecream>=2.1->pytextrank) (1.16.0)\n",
      "Requirement already satisfied: smmap<6,>=3.0.1 in c:\\users\\shivani\\.ms-ad\\lib\\site-packages (from gitdb<5,>=4.0.1->GitPython>=3.1->pytextrank) (5.0.2)\n",
      "Requirement already satisfied: language-data>=1.2 in c:\\users\\shivani\\.ms-ad\\lib\\site-packages (from langcodes<4.0.0,>=3.2.0->spacy>=3.0->pytextrank) (1.3.0)\n",
      "Requirement already satisfied: contourpy>=1.0.1 in c:\\users\\shivani\\.ms-ad\\lib\\site-packages (from matplotlib>=3.4->networkx[default]>=2.6->pytextrank) (1.0.5)\n",
      "Requirement already satisfied: cycler>=0.10 in c:\\users\\shivani\\.ms-ad\\lib\\site-packages (from matplotlib>=3.4->networkx[default]>=2.6->pytextrank) (0.11.0)\n",
      "Requirement already satisfied: fonttools>=4.22.0 in c:\\users\\shivani\\.ms-ad\\lib\\site-packages (from matplotlib>=3.4->networkx[default]>=2.6->pytextrank) (4.25.0)\n",
      "Requirement already satisfied: kiwisolver>=1.0.1 in c:\\users\\shivani\\.ms-ad\\lib\\site-packages (from matplotlib>=3.4->networkx[default]>=2.6->pytextrank) (1.4.4)\n",
      "Requirement already satisfied: pillow>=6.2.0 in c:\\users\\shivani\\.ms-ad\\lib\\site-packages (from matplotlib>=3.4->networkx[default]>=2.6->pytextrank) (9.4.0)\n",
      "Requirement already satisfied: pyparsing<3.1,>=2.3.1 in c:\\users\\shivani\\.ms-ad\\lib\\site-packages (from matplotlib>=3.4->networkx[default]>=2.6->pytextrank) (3.0.9)\n",
      "Requirement already satisfied: python-dateutil>=2.7 in c:\\users\\shivani\\.ms-ad\\lib\\site-packages (from matplotlib>=3.4->networkx[default]>=2.6->pytextrank) (2.8.2)\n",
      "Requirement already satisfied: pytz>=2020.1 in c:\\users\\shivani\\.ms-ad\\lib\\site-packages (from pandas>=1.3->networkx[default]>=2.6->pytextrank) (2023.3.post1)\n",
      "Requirement already satisfied: tzdata>=2022.1 in c:\\users\\shivani\\.ms-ad\\lib\\site-packages (from pandas>=1.3->networkx[default]>=2.6->pytextrank) (2023.3)\n",
      "Requirement already satisfied: typing-extensions>=4.2.0 in c:\\users\\shivani\\.ms-ad\\lib\\site-packages (from pydantic!=1.8,!=1.8.1,<3.0.0,>=1.7.4->spacy>=3.0->pytextrank) (4.12.2)\n",
      "Requirement already satisfied: charset-normalizer<4,>=2 in c:\\users\\shivani\\.ms-ad\\lib\\site-packages (from requests<3.0.0,>=2.13.0->spacy>=3.0->pytextrank) (2.0.4)\n",
      "Requirement already satisfied: idna<4,>=2.5 in c:\\users\\shivani\\.ms-ad\\lib\\site-packages (from requests<3.0.0,>=2.13.0->spacy>=3.0->pytextrank) (3.4)\n",
      "Requirement already satisfied: urllib3<3,>=1.21.1 in c:\\users\\shivani\\.ms-ad\\lib\\site-packages (from requests<3.0.0,>=2.13.0->spacy>=3.0->pytextrank) (1.26.16)\n",
      "Requirement already satisfied: certifi>=2017.4.17 in c:\\users\\shivani\\.ms-ad\\lib\\site-packages (from requests<3.0.0,>=2.13.0->spacy>=3.0->pytextrank) (2023.7.22)\n",
      "Requirement already satisfied: blis<1.3.0,>=1.2.0 in c:\\users\\shivani\\.ms-ad\\lib\\site-packages (from thinc<8.4.0,>=8.3.4->spacy>=3.0->pytextrank) (1.2.0)\n",
      "Requirement already satisfied: confection<1.0.0,>=0.0.1 in c:\\users\\shivani\\.ms-ad\\lib\\site-packages (from thinc<8.4.0,>=8.3.4->spacy>=3.0->pytextrank) (0.1.5)\n",
      "Requirement already satisfied: click>=8.0.0 in c:\\users\\shivani\\.ms-ad\\lib\\site-packages (from typer<1.0.0,>=0.3.0->spacy>=3.0->pytextrank) (8.0.4)\n",
      "Requirement already satisfied: shellingham>=1.3.0 in c:\\users\\shivani\\.ms-ad\\lib\\site-packages (from typer<1.0.0,>=0.3.0->spacy>=3.0->pytextrank) (1.5.4)\n",
      "Requirement already satisfied: rich>=10.11.0 in c:\\users\\shivani\\.ms-ad\\lib\\site-packages (from typer<1.0.0,>=0.3.0->spacy>=3.0->pytextrank) (13.9.4)\n",
      "Requirement already satisfied: cloudpathlib<1.0.0,>=0.7.0 in c:\\users\\shivani\\.ms-ad\\lib\\site-packages (from weasel<0.5.0,>=0.1.0->spacy>=3.0->pytextrank) (0.20.0)\n",
      "Requirement already satisfied: smart-open<8.0.0,>=5.2.1 in c:\\users\\shivani\\.ms-ad\\lib\\site-packages (from weasel<0.5.0,>=0.1.0->spacy>=3.0->pytextrank) (5.2.1)\n",
      "Requirement already satisfied: MarkupSafe>=2.0 in c:\\users\\shivani\\.ms-ad\\lib\\site-packages (from jinja2->spacy>=3.0->pytextrank) (2.1.1)\n",
      "Requirement already satisfied: marisa-trie>=1.1.0 in c:\\users\\shivani\\.ms-ad\\lib\\site-packages (from language-data>=1.2->langcodes<4.0.0,>=3.2.0->spacy>=3.0->pytextrank) (1.2.1)\n",
      "Requirement already satisfied: markdown-it-py>=2.2.0 in c:\\users\\shivani\\.ms-ad\\lib\\site-packages (from rich>=10.11.0->typer<1.0.0,>=0.3.0->spacy>=3.0->pytextrank) (2.2.0)\n",
      "Requirement already satisfied: mdurl~=0.1 in c:\\users\\shivani\\.ms-ad\\lib\\site-packages (from markdown-it-py>=2.2.0->rich>=10.11.0->typer<1.0.0,>=0.3.0->spacy>=3.0->pytextrank) (0.1.0)\n"
     ]
    }
   ],
   "source": [
    "!pip install pytextrank"
   ]
  },
  {
   "cell_type": "code",
   "execution_count": 2,
   "id": "08c2a3a0",
   "metadata": {},
   "outputs": [
    {
     "name": "stdout",
     "output_type": "stream",
     "text": [
      "C:\\Users\\Shivani\\.ms-ad\\Lib\\site-packages\n"
     ]
    }
   ],
   "source": [
    "import spacy\n",
    "import pytextrank"
   ]
  },
  {
   "cell_type": "code",
   "execution_count": 3,
   "id": "07748bdc",
   "metadata": {},
   "outputs": [],
   "source": [
    "documnet = \"\"\"Not only did it only confirm that the film would be unfunny\n",
    "and generic, but it also managed to give away the Enire movie;\n",
    "and I'm not exaggerating - every moment, every\n",
    "plot poinevery joke is told in the trailer.\"\"\""
   ]
  },
  {
   "cell_type": "code",
   "execution_count": 4,
   "id": "c33a4ea2",
   "metadata": {},
   "outputs": [],
   "source": [
    "en_nlp = spacy.load(\"en_core_web_sm\")\n",
    "en_nlp.add_pipe(\"textrank\")\n",
    "doc = en_nlp(documnet)"
   ]
  },
  {
   "cell_type": "code",
   "execution_count": 5,
   "id": "a3e243ea",
   "metadata": {},
   "outputs": [
    {
     "name": "stdout",
     "output_type": "stream",
     "text": [
      "21.74997329711914\n"
     ]
    }
   ],
   "source": [
    "tr = doc._.textrank\n",
    "print(tr.elapsed_time)"
   ]
  },
  {
   "cell_type": "code",
   "execution_count": 6,
   "id": "6a5283b4",
   "metadata": {},
   "outputs": [
    {
     "name": "stdout",
     "output_type": "stream",
     "text": [
      "the Enire movie 0.09548608913294183 1\n",
      "every\n",
      "plot poinevery joke 0.08819803099159579 1\n",
      "the film 0.05423292745389326 1\n",
      "the trailer 0.04834919915077192 1\n",
      "I 0.0 1\n",
      "it 0.0 2\n"
     ]
    }
   ],
   "source": [
    "for combination in doc._.phrases:\n",
    "    print(combination.text, combination.rank, combination.count)"
   ]
  },
  {
   "cell_type": "code",
   "execution_count": 7,
   "id": "e6eb7af0",
   "metadata": {},
   "outputs": [],
   "source": [
    "from bs4 import BeautifulSoup\n",
    "from urllib.request import urlopen"
   ]
  },
  {
   "cell_type": "code",
   "execution_count": 8,
   "id": "16c1c3c3",
   "metadata": {},
   "outputs": [],
   "source": [
    "def get_only_text(url):\n",
    "    page = urlopen(url)\n",
    "    soup = BeautifulSoup(page)\n",
    "    text = '\\t'.join(map(lambda p: p.text, soup.find_all('p')))\n",
    "    print (text)\n",
    "    return soup.title, text"
   ]
  },
  {
   "cell_type": "code",
   "execution_count": 14,
   "id": "d864f130",
   "metadata": {},
   "outputs": [
    {
     "name": "stdout",
     "output_type": "stream",
     "text": [
      "Natural language processing (NLP) is a subfield of computer science and especially artificial intelligence. It is primarily concerned with providing computers with the ability to process data encoded in natural language and is thus closely related to information retrieval, knowledge representation and computational linguistics, a subfield of linguistics. Typically data is collected in text corpora, using either rule-based, statistical or neural-based approaches in machine learning and deep learning.\n",
      "\tMajor tasks in natural language processing are speech recognition, text classification, natural-language understanding, and natural-language generation.\n",
      "\tNatural language processing has its roots in the 1950s.[1] Already in 1950, Alan Turing published an article titled \"Computing Machinery and Intelligence\" which proposed what is now called the Turing test as a criterion of intelligence, though at the time that was not articulated as a problem separate from artificial intelligence. The proposed test includes a task that involves the automated interpretation and generation of natural language.\n",
      "\tThe premise of symbolic NLP is well-summarized by John Searle's Chinese room experiment: Given a collection of rules (e.g., a Chinese phrasebook, with questions and matching answers), the computer emulates natural language understanding (or other NLP tasks) by applying those rules to the data it confronts.\n",
      "\tUp until the 1980s, most natural language processing systems were based on complex sets of hand-written rules.  Starting in the late 1980s, however, there was a revolution in natural language processing with the introduction of machine learning algorithms for language processing.  This was due to both the steady increase in computational power (see Moore's law) and the gradual lessening of the dominance of Chomskyan theories of linguistics (e.g. transformational grammar), whose theoretical underpinnings discouraged the sort of corpus linguistics that underlies the machine-learning approach to language processing.[8]\n",
      "\tSymbolic approach, i.e., the hand-coding of a set of rules for manipulating symbols, coupled with a dictionary lookup, was historically the first approach used both by AI in general and by NLP in particular:[18][19] such as by writing grammars or devising heuristic rules for stemming.\n",
      "\tMachine learning approaches, which include both statistical and neural networks, on the other hand, have many advantages over the symbolic approach: \n",
      "\tAlthough rule-based systems for manipulating symbols were still in use in 2020, they have become mostly obsolete with the advance of LLMs in 2023. \n",
      "\tBefore that they were commonly used:\n",
      "\tIn the late 1980s and mid-1990s, the statistical approach ended a period of AI winter, which was caused by the inefficiencies of the rule-based approaches.[20][21]\n",
      "\tThe earliest decision trees, producing systems of hard if–then rules, were still very similar to the old rule-based approaches.\n",
      "Only the introduction of hidden Markov models, applied to part-of-speech tagging, announced the end of the old rule-based approach.\n",
      "\tA major drawback of statistical methods is that they require elaborate feature engineering. Since 2015,[22] the statistical approach has been replaced by the neural networks approach, using semantic networks[23] and word embeddings to capture semantic properties of words.  \n",
      "\tIntermediate tasks (e.g., part-of-speech tagging and dependency parsing) are not needed anymore. \n",
      "\tNeural machine translation, based on then-newly invented sequence-to-sequence transformations, made obsolete the intermediate steps, such as word alignment, previously necessary for statistical machine translation.\n",
      "\tThe following is a list of some of the most commonly researched tasks in natural language processing. Some of these tasks have direct real-world applications, while others more commonly serve as subtasks that are used to aid in solving larger tasks.\n",
      "\tThough natural language processing tasks are closely intertwined, they can be subdivided into categories for convenience. A coarse division is given below.\n",
      "\tBased on long-standing trends in the field, it is possible to extrapolate future directions of NLP. As of 2020, three trends among the topics of the long-standing series of CoNLL Shared Tasks can be observed:[46]\n",
      "\tMost higher-level NLP applications involve aspects that emulate intelligent behaviour and apparent comprehension of natural language. More broadly speaking, the technical operationalization of increasingly advanced aspects of cognitive behaviour represents one of the developmental trajectories of NLP (see trends among CoNLL shared tasks above).\n",
      "\tCognition refers to \"the mental action or process of acquiring knowledge and understanding through thought, experience, and the senses.\"[47] Cognitive science is the interdisciplinary, scientific study of the mind and its processes.[48] Cognitive linguistics is an interdisciplinary branch of linguistics, combining knowledge and research from both psychology and linguistics.[49] Especially during the age of symbolic NLP, the area of computational linguistics maintained strong ties with cognitive studies.\n",
      "\tAs an example, George Lakoff offers a methodology to build natural language processing (NLP) algorithms through the perspective of cognitive science, along with the findings of cognitive linguistics,[50] with two defining aspects:\n",
      "\tTies with cognitive linguistics are part of the historical heritage of NLP, but they have been less frequently addressed since the statistical turn during the 1990s. Nevertheless, approaches to develop cognitive models towards technically operationalizable frameworks have been pursued in the context of various frameworks, e.g., of cognitive grammar,[53] functional grammar,[54] construction grammar,[55] computational psycholinguistics and cognitive neuroscience (e.g., ACT-R), however, with limited uptake in mainstream NLP (as measured by presence on major conferences[56] of the ACL). More recently, ideas of cognitive NLP have been revived as an approach to achieve explainability, e.g., under the notion of \"cognitive AI\".[57] Likewise, ideas of cognitive NLP are inherent to neural models multimodal NLP (although rarely made explicit)[58] and developments in artificial intelligence, specifically tools and technologies using large language model approaches[59] and new directions in artificial general intelligence based on the free energy principle[60] by British neuroscientist and theoretician at University College London Karl J. Friston.\n",
      "\n"
     ]
    }
   ],
   "source": [
    "url=\"https://en.wikipedia.org/wiki/Natural_language_processing\"\n",
    "text = get_only_text(url)"
   ]
  },
  {
   "cell_type": "code",
   "execution_count": 10,
   "id": "c6505b10",
   "metadata": {},
   "outputs": [
    {
     "name": "stdout",
     "output_type": "stream",
     "text": [
      "Requirement already satisfied: lxml.html.clean in c:\\users\\shivani\\.ms-ad\\lib\\site-packages (0.4.1)\n",
      "Requirement already satisfied: lxml in c:\\users\\shivani\\.ms-ad\\lib\\site-packages (from lxml.html.clean) (4.9.3)\n"
     ]
    }
   ],
   "source": [
    "!pip install lxml.html.clean"
   ]
  },
  {
   "cell_type": "code",
   "execution_count": 11,
   "id": "cfeeac71",
   "metadata": {},
   "outputs": [
    {
     "name": "stdout",
     "output_type": "stream",
     "text": [
      "Requirement already satisfied: sumy in c:\\users\\shivani\\.ms-ad\\lib\\site-packages (0.11.0)\n",
      "Requirement already satisfied: docopt<0.7,>=0.6.1 in c:\\users\\shivani\\.ms-ad\\lib\\site-packages (from sumy) (0.6.2)\n",
      "Requirement already satisfied: breadability>=0.1.20 in c:\\users\\shivani\\.ms-ad\\lib\\site-packages (from sumy) (0.1.20)\n",
      "Requirement already satisfied: requests>=2.7.0 in c:\\users\\shivani\\.ms-ad\\lib\\site-packages (from sumy) (2.31.0)\n",
      "Requirement already satisfied: pycountry>=18.2.23 in c:\\users\\shivani\\.ms-ad\\lib\\site-packages (from sumy) (24.6.1)\n",
      "Requirement already satisfied: nltk>=3.0.2 in c:\\users\\shivani\\.ms-ad\\lib\\site-packages (from sumy) (3.9.1)\n",
      "Requirement already satisfied: chardet in c:\\users\\shivani\\.ms-ad\\lib\\site-packages (from breadability>=0.1.20->sumy) (4.0.0)\n",
      "Requirement already satisfied: lxml>=2.0 in c:\\users\\shivani\\.ms-ad\\lib\\site-packages (from breadability>=0.1.20->sumy) (4.9.3)\n",
      "Requirement already satisfied: click in c:\\users\\shivani\\.ms-ad\\lib\\site-packages (from nltk>=3.0.2->sumy) (8.0.4)\n",
      "Requirement already satisfied: joblib in c:\\users\\shivani\\.ms-ad\\lib\\site-packages (from nltk>=3.0.2->sumy) (1.2.0)\n",
      "Requirement already satisfied: regex>=2021.8.3 in c:\\users\\shivani\\.ms-ad\\lib\\site-packages (from nltk>=3.0.2->sumy) (2022.7.9)\n",
      "Requirement already satisfied: tqdm in c:\\users\\shivani\\.ms-ad\\lib\\site-packages (from nltk>=3.0.2->sumy) (4.65.0)\n",
      "Requirement already satisfied: charset-normalizer<4,>=2 in c:\\users\\shivani\\.ms-ad\\lib\\site-packages (from requests>=2.7.0->sumy) (2.0.4)\n",
      "Requirement already satisfied: idna<4,>=2.5 in c:\\users\\shivani\\.ms-ad\\lib\\site-packages (from requests>=2.7.0->sumy) (3.4)\n",
      "Requirement already satisfied: urllib3<3,>=1.21.1 in c:\\users\\shivani\\.ms-ad\\lib\\site-packages (from requests>=2.7.0->sumy) (1.26.16)\n",
      "Requirement already satisfied: certifi>=2017.4.17 in c:\\users\\shivani\\.ms-ad\\lib\\site-packages (from requests>=2.7.0->sumy) (2023.7.22)\n",
      "Requirement already satisfied: colorama in c:\\users\\shivani\\.ms-ad\\lib\\site-packages (from click->nltk>=3.0.2->sumy) (0.4.6)\n"
     ]
    }
   ],
   "source": [
    "!pip install sumy"
   ]
  },
  {
   "cell_type": "code",
   "execution_count": 13,
   "id": "6765da1f",
   "metadata": {},
   "outputs": [],
   "source": [
    "from sumy.parsers.html import HtmlParser\n",
    "from sumy.parsers.plaintext import PlaintextParser\n",
    "from sumy.nlp.tokenizers import Tokenizer\n",
    "from sumy.summarizers.lsa import LsaSummarizer\n",
    "from sumy.nlp.stemmers import Stemmer\n",
    "from sumy.utils import get_stop_words\n",
    "from sumy.summarizers.luhn import LuhnSummarizer"
   ]
  },
  {
   "cell_type": "code",
   "execution_count": null,
   "id": "9a359fa1",
   "metadata": {},
   "outputs": [],
   "source": []
  },
  {
   "cell_type": "code",
   "execution_count": 17,
   "id": "ae25feb8",
   "metadata": {},
   "outputs": [
    {
     "name": "stdout",
     "output_type": "stream",
     "text": [
      "[ 2] However, real progress was much slower, and after the ALPAC report in 1966, which found that ten years of research had failed to fulfill the expectations, funding for machine translation was dramatically reduced.\n",
      "However, there is an enormous amount of non-annotated data available (including, among other things, the entire content of the World Wide Web), which can often make up for the worse efficiency if the algorithm used has a low enough time complexity to be practical.\n",
      "[ 14] This is increasingly important in medicine and healthcare, where NLP helps analyze notes and text in electronic health records that would otherwise be inaccessible for study when seeking to improve care[ 16] or protect patient privacy.\n",
      "the larger such a (probabilistic) language model is, the more accurate it becomes, in contrast to rule-based systems that can gain accuracy only by increasing the amount and complexity of the rules leading to intractability problems.\n",
      "[34][35][36] As far as orthography, morphology, syntax and certain aspects of semantics are concerned, and due to the development of powerful neural language models such as GPT-2, this can now (2019) be considered a largely solved problem and is being marketed in various commercial applications.\n",
      "Increasing interest in multilinguality, and, potentially, multimodality (English since 1999; Spanish, Dutch since 2002; German since 2003; Bulgarian, Danish, Japanese, Portuguese, Slovenian, Swedish, Turkish since 2006; Basque, Catalan, Chinese, Greek, Hungarian, Italian, Turkish since 2007; Czech since 2009; Arabic since 2012; 2017: 40+ languages; 2018: 60+/100+ languages) Elimination of symbolic representations (rule-based over supervised towards weakly supervised methods, representation learning and end-to-end systems)\n",
      "More broadly speaking, the technical operationalization of increasingly advanced aspects of cognitive behaviour represents one of the developmental trajectories of NLP (see trends among CoNLL shared tasks above).\n",
      "PMID 33736486.^ Lee, Jennifer; Yang, Samuel; Holland-Hall, Cynthia; Sezgin, Emre; Gill, Manjot; Linwood, Simon; Huang, Yungui; Hoffman, Jeffrey (2022-06-10).\n",
      "Retrieved 5 December 2021.^ Yi, Chucai; Tian, Yingli(2012), \"Assistive Text Reading from Complex Background for Blind Persons\", Camera-Based Document Analysis and Recognition, Lecture Notes in Computer Science, vol.\n",
      "Advances in Neural Information Processing Systems.^ Kariampuzha, William; Alyea, Gioconda; Qu, Sue; Sanjak, Jaleal; Mathé, Ewy; Sid, Eric; Chatelaine, Haley; Yadaw, Arjun; Xu, Yanji; Zhu, Qian (2023).\n"
     ]
    }
   ],
   "source": [
    "LANGUAGE=\"english\"\n",
    "SENTENCES_COUNT=10\n",
    "\n",
    "url = \"https://en.wikipedia.org/wiki/Natural_language_processing\"\n",
    "parser=HtmlParser.from_url(url,Tokenizer(LANGUAGE))\n",
    "summarizer = LsaSummarizer()\n",
    "summarizer = LsaSummarizer(Stemmer(LANGUAGE))\n",
    "summarizer.stop_words=get_stop_words(LANGUAGE)\n",
    "for sentence in summarizer(parser.document, SENTENCES_COUNT):\n",
    "    print(sentence)"
   ]
  },
  {
   "cell_type": "code",
   "execution_count": 19,
   "id": "ac63e249",
   "metadata": {},
   "outputs": [],
   "source": [
    "from sumy.parsers.plaintext import PlaintextParser\n",
    "from sumy.nlp.tokenizers import Tokenizer"
   ]
  },
  {
   "cell_type": "code",
   "execution_count": 20,
   "id": "02f91803",
   "metadata": {},
   "outputs": [],
   "source": [
    "parser = PlaintextParser.from_string(text,Tokenizer(\"english\"))"
   ]
  },
  {
   "cell_type": "code",
   "execution_count": 22,
   "id": "bf1d604a",
   "metadata": {},
   "outputs": [
    {
     "name": "stdout",
     "output_type": "stream",
     "text": [
      "(<title>Natural language processing - Wikipedia</title>, 'Natural language processing (NLP) is a subfield of computer science and especially artificial intelligence.\n",
      "(<title>Natural language processing - Wikipedia</title>, 'Natural language processing (NLP) is a subfield of computer science and especially artificial intelligence.[8]\\n\\tSymbolic approach, i.e., the hand-coding of a set of rules for manipulating symbols, coupled with a dictionary lookup, was historically the first approach used both by AI in general and by NLP in particular:[18][19] such as by writing grammars or devising heuristic rules for stemming.\\n\\tMachine learning approaches, which include both statistical and neural networks, on the other hand, have many advantages over the symbolic approach: \\n\\tAlthough rule-based systems for manipulating symbols were still in use in 2020, they have become mostly obsolete with the advance of LLMs in 2023.\n",
      "(<title>Natural language processing - Wikipedia</title>, 'Natural language processing (NLP) is a subfield of computer science and especially artificial intelligence.[8]\\n\\tSymbolic approach, i.e., the hand-coding of a set of rules for manipulating symbols, coupled with a dictionary lookup, was historically the first approach used both by AI in general and by NLP in particular:[18][19] such as by writing grammars or devising heuristic rules for stemming.\\n\\tMachine learning approaches, which include both statistical and neural networks, on the other hand, have many advantages over the symbolic approach: \\n\\tAlthough rule-based systems for manipulating symbols were still in use in 2020, they have become mostly obsolete with the advance of LLMs in 2023.As of 2020, three trends among the topics of the long-standing series of CoNLL Shared Tasks can be observed:[46]\\n\\tMost higher-level NLP applications involve aspects that emulate intelligent behaviour and apparent comprehension of natural language.\n",
      "(<title>Natural language processing - Wikipedia</title>, 'Natural language processing (NLP) is a subfield of computer science and especially artificial intelligence.[8]\\n\\tSymbolic approach, i.e., the hand-coding of a set of rules for manipulating symbols, coupled with a dictionary lookup, was historically the first approach used both by AI in general and by NLP in particular:[18][19] such as by writing grammars or devising heuristic rules for stemming.\\n\\tMachine learning approaches, which include both statistical and neural networks, on the other hand, have many advantages over the symbolic approach: \\n\\tAlthough rule-based systems for manipulating symbols were still in use in 2020, they have become mostly obsolete with the advance of LLMs in 2023.As of 2020, three trends among the topics of the long-standing series of CoNLL Shared Tasks can be observed:[46]\\n\\tMost higher-level NLP applications involve aspects that emulate intelligent behaviour and apparent comprehension of natural language.[48] Cognitive linguistics is an interdisciplinary branch of linguistics, combining knowledge and research from both psychology and linguistics.\n",
      "(<title>Natural language processing - Wikipedia</title>, 'Natural language processing (NLP) is a subfield of computer science and especially artificial intelligence.[8]\\n\\tSymbolic approach, i.e., the hand-coding of a set of rules for manipulating symbols, coupled with a dictionary lookup, was historically the first approach used both by AI in general and by NLP in particular:[18][19] such as by writing grammars or devising heuristic rules for stemming.\\n\\tMachine learning approaches, which include both statistical and neural networks, on the other hand, have many advantages over the symbolic approach: \\n\\tAlthough rule-based systems for manipulating symbols were still in use in 2020, they have become mostly obsolete with the advance of LLMs in 2023.As of 2020, three trends among the topics of the long-standing series of CoNLL Shared Tasks can be observed:[46]\\n\\tMost higher-level NLP applications involve aspects that emulate intelligent behaviour and apparent comprehension of natural language.[48] Cognitive linguistics is an interdisciplinary branch of linguistics, combining knowledge and research from both psychology and linguistics.[49] Especially during the age of symbolic NLP, the area of computational linguistics maintained strong ties with cognitive studies.\\n\\tAs an example, George Lakoff offers a methodology to build natural language processing (NLP) algorithms through the perspective of cognitive science, along with the findings of cognitive linguistics,[50] with two defining aspects:\\n\\tTies with cognitive linguistics are part of the historical heritage of NLP, but they have been less frequently addressed since the statistical turn during the 1990s.\n"
     ]
    }
   ],
   "source": [
    "from sumy.summarizers.lex_rank import LexRankSummarizer\n",
    "from sumy.utils import get_stop_words\n",
    "summarizer_lex = LexRankSummarizer()\n",
    "\n",
    "summarizer_lex.stop_words = get_stop_words(\"english\")\n",
    "summary= summarizer_lex(parser.document, 5)\n",
    "lex_summary=\"\"\n",
    "for sentence in summary:\n",
    "    lex_summary+=str(sentence)\n",
    "    print(lex_summary)"
   ]
  },
  {
   "cell_type": "code",
   "execution_count": null,
   "id": "e8bbc4e6",
   "metadata": {},
   "outputs": [],
   "source": []
  }
 ],
 "metadata": {
  "kernelspec": {
   "display_name": "Python 3 (ipykernel)",
   "language": "python",
   "name": "python3"
  },
  "language_info": {
   "codemirror_mode": {
    "name": "ipython",
    "version": 3
   },
   "file_extension": ".py",
   "mimetype": "text/x-python",
   "name": "python",
   "nbconvert_exporter": "python",
   "pygments_lexer": "ipython3",
   "version": "3.11.5"
  }
 },
 "nbformat": 4,
 "nbformat_minor": 5
}
