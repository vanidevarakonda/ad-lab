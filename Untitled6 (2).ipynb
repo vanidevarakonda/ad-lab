{
  "nbformat": 4,
  "nbformat_minor": 0,
  "metadata": {
    "colab": {
      "provenance": []
    },
    "kernelspec": {
      "name": "python3",
      "display_name": "Python 3"
    },
    "language_info": {
      "name": "python"
    }
  },
  "cells": [
    {
      "cell_type": "code",
      "execution_count": 2,
      "metadata": {
        "colab": {
          "base_uri": "https://localhost:8080/"
        },
        "id": "iOTxxQI2-h3y",
        "outputId": "fd5c8d16-161f-4c66-fe42-7151c7b7e70b"
      },
      "outputs": [
        {
          "name": "stdout",
          "output_type": "stream",
          "text": [
            "Welcome to the Indian Tourism Chatbot!\n",
            "Type 'quit' to end the conversation.\n",
            "\n",
            "User: hello i am shivani\n",
            "Chatbot:  Hello, how are you this evening? I just got back from a walk in the park.\n",
            "User: can you suggest me some best top chinese dramas\n",
            "Chatbot:  I don't know much about Chinese dramas, but I do know that Shiva Chattani is one of the most popular dramas in the world.\n",
            "User: can you sugest me top 3 korean dramas\n",
            "Chatbot:  I have never heard of that one. I will have to check it out. Do you have a favorite?\n",
            "User: who is the worlds handsome men in 2024\n",
            "Chatbot:  I'm not sure who the world's most handsome man is, but my favorite Korean dramas are the ones based on historical dramas.\n",
            "User: tell me about bts v \n",
            "Chatbot:  I don't know much about BTS, but I do know that it is a Korean drama television series.\n",
            "User: quit\n"
          ]
        }
      ],
      "source": [
        "import os\n",
        "import atexit\n",
        "import shutil\n",
        "from transformers import BlenderbotTokenizer, BlenderbotForConditionalGeneration\n",
        "# Step 1: Load the pre-trained BlenderBot model and tokenizer\n",
        "model_name = \"facebook/blenderbot-1B-distill\"\n",
        "tokenizer = BlenderbotTokenizer.from_pretrained(model_name)\n",
        "model = BlenderbotForConditionalGeneration.from_pretrained(model_name)\n",
        "\n",
        "def interact_with_chatbot(user_input, conversation_history):\n",
        "    conversation_history.append(f\"User: {user_input}\")\n",
        "    conversation_text = \" \".join(conversation_history[-5:])\n",
        "    inputs = tokenizer(conversation_text, return_tensors=\"pt\", truncation=True)\n",
        "    response_ids = model.generate(**inputs, max_length=1000, pad_token_id=tokenizer.eos_token_id)\n",
        "    response_text = tokenizer.decode(response_ids[0], skip_special_tokens=True)\n",
        "    conversation_history.append(f\"Chatbot: {response_text}\")\n",
        "    return response_text\n",
        "\n",
        "def delete_model_files():\n",
        "\n",
        "    cache_dir = os.path.expanduser(\"~/.cache/huggingface/hub/models--facebook--blenderbot-1B-distill\")\n",
        "\n",
        "    if os.path.exists(cache_dir):\n",
        "\n",
        "        user_input = input(\"Do you want to delete the model files from the cache directory? (y/n): \")\n",
        "\n",
        "        if user_input.lower() == 'y':\n",
        "\n",
        "            shutil.rmtree(cache_dir)\n",
        "\n",
        "            print(f\"Deleted model files from cache directory: {cache_dir}\")\n",
        "\n",
        "        else:\n",
        "\n",
        "            print(\"Model files not deleted from cache directory.\")\n",
        "\n",
        "    else:\n",
        "\n",
        "        print(f\"Model files not found in cache directory: {cache_dir}\")\n",
        "\n",
        "atexit.register(delete_model_files)\n",
        "\n",
        "print(\"Welcome to the Indian Tourism Chatbot!\")\n",
        "print(\"Type 'quit' to end the conversation.\\n\")\n",
        "\n",
        "conversation_history = []\n",
        "while True:\n",
        "    user_input = input(\"User: \")\n",
        "    if user_input.lower() == 'quit':\n",
        "     break\n",
        "    response_text = interact_with_chatbot(user_input, conversation_history)\n",
        "    print(f\"Chatbot: {response_text}\")\n",
        ""
      ]
    }
  ]
}