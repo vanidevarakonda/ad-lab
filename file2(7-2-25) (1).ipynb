{
 "cells": [
  {
   "cell_type": "code",
   "execution_count": 1,
   "id": "40bb4752",
   "metadata": {},
   "outputs": [],
   "source": [
    "# import libraries\n",
    "from nltk.stem.porter import PorterStemmer\n",
    "from sklearn.feature_extraction.text import TfidfVectorizer\n",
    "from sklearn.model_selection import train_test_split\n",
    "import pickle\n",
    "from sklearn.linear_model import LogisticRegressionCV\n",
    "import re\n",
    "import pandas as pd\n",
    "import warnings\n",
    "warnings.filterwarnings(\"ignore\")"
   ]
  },
  {
   "cell_type": "code",
   "execution_count": 2,
   "id": "bb00302b",
   "metadata": {},
   "outputs": [],
   "source": [
    "df = pd.read_csv(r\"C:\\Users\\Shivani\\OneDrive\\Desktop\\nlp review\\covid_fake.csv\")"
   ]
  },
  {
   "cell_type": "code",
   "execution_count": 3,
   "id": "186b2f14",
   "metadata": {},
   "outputs": [
    {
     "data": {
      "text/html": [
       "<div>\n",
       "<style scoped>\n",
       "    .dataframe tbody tr th:only-of-type {\n",
       "        vertical-align: middle;\n",
       "    }\n",
       "\n",
       "    .dataframe tbody tr th {\n",
       "        vertical-align: top;\n",
       "    }\n",
       "\n",
       "    .dataframe thead th {\n",
       "        text-align: right;\n",
       "    }\n",
       "</style>\n",
       "<table border=\"1\" class=\"dataframe\">\n",
       "  <thead>\n",
       "    <tr style=\"text-align: right;\">\n",
       "      <th></th>\n",
       "      <th>title</th>\n",
       "      <th>text</th>\n",
       "      <th>source</th>\n",
       "      <th>label</th>\n",
       "    </tr>\n",
       "  </thead>\n",
       "  <tbody>\n",
       "    <tr>\n",
       "      <th>0</th>\n",
       "      <td>Due to the recent outbreak for the Coronavirus...</td>\n",
       "      <td>You just need to add water, and the drugs and ...</td>\n",
       "      <td>coronavirusmedicalkit.com</td>\n",
       "      <td>Fake</td>\n",
       "    </tr>\n",
       "    <tr>\n",
       "      <th>1</th>\n",
       "      <td>NaN</td>\n",
       "      <td>Hydroxychloroquine has been shown to have a 10...</td>\n",
       "      <td>RudyGiuliani</td>\n",
       "      <td>Fake</td>\n",
       "    </tr>\n",
       "    <tr>\n",
       "      <th>2</th>\n",
       "      <td>NaN</td>\n",
       "      <td>Fact: Hydroxychloroquine has been shown to hav...</td>\n",
       "      <td>CharlieKirk</td>\n",
       "      <td>Fake</td>\n",
       "    </tr>\n",
       "    <tr>\n",
       "      <th>3</th>\n",
       "      <td>NaN</td>\n",
       "      <td>The Corona virus is a man made virus created i...</td>\n",
       "      <td>JoanneWrightForCongress</td>\n",
       "      <td>Fake</td>\n",
       "    </tr>\n",
       "    <tr>\n",
       "      <th>4</th>\n",
       "      <td>NaN</td>\n",
       "      <td>Doesn’t @BillGates finance research at the Wuh...</td>\n",
       "      <td>JoanneWrightForCongress</td>\n",
       "      <td>Fake</td>\n",
       "    </tr>\n",
       "  </tbody>\n",
       "</table>\n",
       "</div>"
      ],
      "text/plain": [
       "                                               title  \\\n",
       "0  Due to the recent outbreak for the Coronavirus...   \n",
       "1                                                NaN   \n",
       "2                                                NaN   \n",
       "3                                                NaN   \n",
       "4                                                NaN   \n",
       "\n",
       "                                                text  \\\n",
       "0  You just need to add water, and the drugs and ...   \n",
       "1  Hydroxychloroquine has been shown to have a 10...   \n",
       "2  Fact: Hydroxychloroquine has been shown to hav...   \n",
       "3  The Corona virus is a man made virus created i...   \n",
       "4  Doesn’t @BillGates finance research at the Wuh...   \n",
       "\n",
       "                      source label  \n",
       "0  coronavirusmedicalkit.com  Fake  \n",
       "1               RudyGiuliani  Fake  \n",
       "2                CharlieKirk  Fake  \n",
       "3    JoanneWrightForCongress  Fake  \n",
       "4    JoanneWrightForCongress  Fake  "
      ]
     },
     "execution_count": 3,
     "metadata": {},
     "output_type": "execute_result"
    }
   ],
   "source": [
    "df.head()"
   ]
  },
  {
   "cell_type": "code",
   "execution_count": 4,
   "id": "3a1c6b77",
   "metadata": {},
   "outputs": [
    {
     "data": {
      "text/plain": [
       "(1164, 4)"
      ]
     },
     "execution_count": 4,
     "metadata": {},
     "output_type": "execute_result"
    }
   ],
   "source": [
    "df.shape"
   ]
  },
  {
   "cell_type": "code",
   "execution_count": 5,
   "id": "34515c26",
   "metadata": {
    "scrolled": true
   },
   "outputs": [
    {
     "data": {
      "text/plain": [
       "label\n",
       "TRUE    584\n",
       "Fake    345\n",
       "fake    230\n",
       "Name: count, dtype: int64"
      ]
     },
     "execution_count": 5,
     "metadata": {},
     "output_type": "execute_result"
    }
   ],
   "source": [
    "df['label'].value_counts()"
   ]
  },
  {
   "cell_type": "code",
   "execution_count": 6,
   "id": "a371c365",
   "metadata": {},
   "outputs": [
    {
     "data": {
      "text/html": [
       "<div>\n",
       "<style scoped>\n",
       "    .dataframe tbody tr th:only-of-type {\n",
       "        vertical-align: middle;\n",
       "    }\n",
       "\n",
       "    .dataframe tbody tr th {\n",
       "        vertical-align: top;\n",
       "    }\n",
       "\n",
       "    .dataframe thead th {\n",
       "        text-align: right;\n",
       "    }\n",
       "</style>\n",
       "<table border=\"1\" class=\"dataframe\">\n",
       "  <thead>\n",
       "    <tr style=\"text-align: right;\">\n",
       "      <th></th>\n",
       "      <th>title</th>\n",
       "      <th>text</th>\n",
       "      <th>source</th>\n",
       "      <th>label</th>\n",
       "    </tr>\n",
       "  </thead>\n",
       "  <tbody>\n",
       "    <tr>\n",
       "      <th>5</th>\n",
       "      <td>CORONA UNMASKED: Chinese Intelligence Officer ...</td>\n",
       "      <td>NaN</td>\n",
       "      <td>NaN</td>\n",
       "      <td>NaN</td>\n",
       "    </tr>\n",
       "    <tr>\n",
       "      <th>6</th>\n",
       "      <td>NaN</td>\n",
       "      <td>Urgent: Health Bulletin to the Public. Ministr...</td>\n",
       "      <td>Ministry of Health</td>\n",
       "      <td>Fake</td>\n",
       "    </tr>\n",
       "    <tr>\n",
       "      <th>7</th>\n",
       "      <td>NaN</td>\n",
       "      <td>Pls tell ur families, relatives and friendsMOH...</td>\n",
       "      <td>NWLLAB</td>\n",
       "      <td>Fake</td>\n",
       "    </tr>\n",
       "    <tr>\n",
       "      <th>8</th>\n",
       "      <td>NaN</td>\n",
       "      <td>SERIOUS EXCELLENT ADVICE by Japanese doctors t...</td>\n",
       "      <td>Japanese doctors treating COVID-19 cases</td>\n",
       "      <td>Fake</td>\n",
       "    </tr>\n",
       "    <tr>\n",
       "      <th>9</th>\n",
       "      <td>Basic protective measures against the new coro...</td>\n",
       "      <td>Stay aware of the latest information on the CO...</td>\n",
       "      <td>https://www.who.int/emergencies/diseases/novel...</td>\n",
       "      <td>TRUE</td>\n",
       "    </tr>\n",
       "    <tr>\n",
       "      <th>10</th>\n",
       "      <td>NaN</td>\n",
       "      <td>The new Coronavirus may not show signs of infe...</td>\n",
       "      <td>Taiwan Experts</td>\n",
       "      <td>Fake</td>\n",
       "    </tr>\n",
       "    <tr>\n",
       "      <th>11</th>\n",
       "      <td>NaN</td>\n",
       "      <td>A vaccine meant for cattle can be used to figh...</td>\n",
       "      <td>facebook</td>\n",
       "      <td>Fake</td>\n",
       "    </tr>\n",
       "    <tr>\n",
       "      <th>12</th>\n",
       "      <td>NaN</td>\n",
       "      <td>Using a hair dryer to breathe in hot air can c...</td>\n",
       "      <td>Youtube</td>\n",
       "      <td>Fake</td>\n",
       "    </tr>\n",
       "    <tr>\n",
       "      <th>13</th>\n",
       "      <td>NaN</td>\n",
       "      <td>Corona virus before it reaches the lungs it re...</td>\n",
       "      <td>twitter</td>\n",
       "      <td>Fake</td>\n",
       "    </tr>\n",
       "    <tr>\n",
       "      <th>14</th>\n",
       "      <td>Exposing yourself to the sun or to temperature...</td>\n",
       "      <td>You can catch COVID-19, no matter how sunny or...</td>\n",
       "      <td>https://www.who.int/emergencies/diseases/novel...</td>\n",
       "      <td>TRUE</td>\n",
       "    </tr>\n",
       "    <tr>\n",
       "      <th>15</th>\n",
       "      <td>You can recover from the coronavirus disease (...</td>\n",
       "      <td>Most of the people who catch COVID-19 can reco...</td>\n",
       "      <td>https://www.who.int/emergencies/diseases/novel...</td>\n",
       "      <td>NaN</td>\n",
       "    </tr>\n",
       "  </tbody>\n",
       "</table>\n",
       "</div>"
      ],
      "text/plain": [
       "                                                title  \\\n",
       "5   CORONA UNMASKED: Chinese Intelligence Officer ...   \n",
       "6                                                 NaN   \n",
       "7                                                 NaN   \n",
       "8                                                 NaN   \n",
       "9   Basic protective measures against the new coro...   \n",
       "10                                                NaN   \n",
       "11                                                NaN   \n",
       "12                                                NaN   \n",
       "13                                                NaN   \n",
       "14  Exposing yourself to the sun or to temperature...   \n",
       "15  You can recover from the coronavirus disease (...   \n",
       "\n",
       "                                                 text  \\\n",
       "5                                                 NaN   \n",
       "6   Urgent: Health Bulletin to the Public. Ministr...   \n",
       "7   Pls tell ur families, relatives and friendsMOH...   \n",
       "8   SERIOUS EXCELLENT ADVICE by Japanese doctors t...   \n",
       "9   Stay aware of the latest information on the CO...   \n",
       "10  The new Coronavirus may not show signs of infe...   \n",
       "11  A vaccine meant for cattle can be used to figh...   \n",
       "12  Using a hair dryer to breathe in hot air can c...   \n",
       "13  Corona virus before it reaches the lungs it re...   \n",
       "14  You can catch COVID-19, no matter how sunny or...   \n",
       "15  Most of the people who catch COVID-19 can reco...   \n",
       "\n",
       "                                               source label  \n",
       "5                                                 NaN   NaN  \n",
       "6                                  Ministry of Health  Fake  \n",
       "7                                              NWLLAB  Fake  \n",
       "8            Japanese doctors treating COVID-19 cases  Fake  \n",
       "9   https://www.who.int/emergencies/diseases/novel...  TRUE  \n",
       "10                                     Taiwan Experts  Fake  \n",
       "11                                           facebook  Fake  \n",
       "12                                            Youtube  Fake  \n",
       "13                                            twitter  Fake  \n",
       "14  https://www.who.int/emergencies/diseases/novel...  TRUE  \n",
       "15  https://www.who.int/emergencies/diseases/novel...   NaN  "
      ]
     },
     "execution_count": 6,
     "metadata": {},
     "output_type": "execute_result"
    }
   ],
   "source": [
    "df.loc[5:15]"
   ]
  },
  {
   "cell_type": "code",
   "execution_count": 7,
   "id": "5abbbe6a",
   "metadata": {},
   "outputs": [
    {
     "data": {
      "text/plain": [
       "title     82\n",
       "text      10\n",
       "source    20\n",
       "label      5\n",
       "dtype: int64"
      ]
     },
     "execution_count": 7,
     "metadata": {},
     "output_type": "execute_result"
    }
   ],
   "source": [
    "df.isna().sum()"
   ]
  },
  {
   "cell_type": "code",
   "execution_count": 8,
   "id": "2c85da28",
   "metadata": {},
   "outputs": [],
   "source": [
    "df.loc [df ['label'] == 'Fake', ['label']]= 'FAKE' \n",
    "df.loc [df ['label'] == 'fake', ['label']] = 'FAKE' \n",
    "df.loc [df ['source'] == 'facebook', ['source']]= 'Facebook' \n",
    "df.text.fillna (df.title, inplace=True) \n",
    "df.loc [5] ['label'] = 'FAKE' \n",
    "df.loc [15] ['label'] = 'TRUE' \n",
    "df.loc [43] ['label'] = 'FAKE' \n",
    "df.loc [131] ['label'] = 'TRUE' \n",
    "df.loc [242] ['label'] = 'FAKE'  \n",
    "df.title.fillna('missing', inplace=True) \n",
    "df.source.fillna('missing', inplace=True) \n",
    "df ['title_text'] = df ['title'] + ' ' + df ['text']"
   ]
  },
  {
   "cell_type": "code",
   "execution_count": 9,
   "id": "c5e2e7a9",
   "metadata": {},
   "outputs": [
    {
     "data": {
      "text/plain": [
       "title         0\n",
       "text          0\n",
       "source        0\n",
       "label         0\n",
       "title_text    0\n",
       "dtype: int64"
      ]
     },
     "execution_count": 9,
     "metadata": {},
     "output_type": "execute_result"
    }
   ],
   "source": [
    "df.isna().sum()"
   ]
  },
  {
   "cell_type": "code",
   "execution_count": 10,
   "id": "708c8f7d",
   "metadata": {},
   "outputs": [
    {
     "data": {
      "text/plain": [
       "label\n",
       "TRUE    586\n",
       "FAKE    578\n",
       "Name: count, dtype: int64"
      ]
     },
     "execution_count": 10,
     "metadata": {},
     "output_type": "execute_result"
    }
   ],
   "source": [
    "df['label'].value_counts()"
   ]
  },
  {
   "cell_type": "code",
   "execution_count": 11,
   "id": "f31f23a7",
   "metadata": {},
   "outputs": [
    {
     "data": {
      "text/html": [
       "<div>\n",
       "<style scoped>\n",
       "    .dataframe tbody tr th:only-of-type {\n",
       "        vertical-align: middle;\n",
       "    }\n",
       "\n",
       "    .dataframe tbody tr th {\n",
       "        vertical-align: top;\n",
       "    }\n",
       "\n",
       "    .dataframe thead th {\n",
       "        text-align: right;\n",
       "    }\n",
       "</style>\n",
       "<table border=\"1\" class=\"dataframe\">\n",
       "  <thead>\n",
       "    <tr style=\"text-align: right;\">\n",
       "      <th></th>\n",
       "      <th>title</th>\n",
       "      <th>text</th>\n",
       "      <th>source</th>\n",
       "      <th>label</th>\n",
       "      <th>title_text</th>\n",
       "    </tr>\n",
       "  </thead>\n",
       "  <tbody>\n",
       "    <tr>\n",
       "      <th>0</th>\n",
       "      <td>Due to the recent outbreak for the Coronavirus...</td>\n",
       "      <td>You just need to add water, and the drugs and ...</td>\n",
       "      <td>coronavirusmedicalkit.com</td>\n",
       "      <td>FAKE</td>\n",
       "      <td>Due to the recent outbreak for the Coronavirus...</td>\n",
       "    </tr>\n",
       "    <tr>\n",
       "      <th>1</th>\n",
       "      <td>missing</td>\n",
       "      <td>Hydroxychloroquine has been shown to have a 10...</td>\n",
       "      <td>RudyGiuliani</td>\n",
       "      <td>FAKE</td>\n",
       "      <td>missing Hydroxychloroquine has been shown to h...</td>\n",
       "    </tr>\n",
       "    <tr>\n",
       "      <th>2</th>\n",
       "      <td>missing</td>\n",
       "      <td>Fact: Hydroxychloroquine has been shown to hav...</td>\n",
       "      <td>CharlieKirk</td>\n",
       "      <td>FAKE</td>\n",
       "      <td>missing Fact: Hydroxychloroquine has been show...</td>\n",
       "    </tr>\n",
       "    <tr>\n",
       "      <th>3</th>\n",
       "      <td>missing</td>\n",
       "      <td>The Corona virus is a man made virus created i...</td>\n",
       "      <td>JoanneWrightForCongress</td>\n",
       "      <td>FAKE</td>\n",
       "      <td>missing The Corona virus is a man made virus c...</td>\n",
       "    </tr>\n",
       "    <tr>\n",
       "      <th>4</th>\n",
       "      <td>missing</td>\n",
       "      <td>Doesn’t @BillGates finance research at the Wuh...</td>\n",
       "      <td>JoanneWrightForCongress</td>\n",
       "      <td>FAKE</td>\n",
       "      <td>missing Doesn’t @BillGates finance research at...</td>\n",
       "    </tr>\n",
       "  </tbody>\n",
       "</table>\n",
       "</div>"
      ],
      "text/plain": [
       "                                               title  \\\n",
       "0  Due to the recent outbreak for the Coronavirus...   \n",
       "1                                            missing   \n",
       "2                                            missing   \n",
       "3                                            missing   \n",
       "4                                            missing   \n",
       "\n",
       "                                                text  \\\n",
       "0  You just need to add water, and the drugs and ...   \n",
       "1  Hydroxychloroquine has been shown to have a 10...   \n",
       "2  Fact: Hydroxychloroquine has been shown to hav...   \n",
       "3  The Corona virus is a man made virus created i...   \n",
       "4  Doesn’t @BillGates finance research at the Wuh...   \n",
       "\n",
       "                      source label  \\\n",
       "0  coronavirusmedicalkit.com  FAKE   \n",
       "1               RudyGiuliani  FAKE   \n",
       "2                CharlieKirk  FAKE   \n",
       "3    JoanneWrightForCongress  FAKE   \n",
       "4    JoanneWrightForCongress  FAKE   \n",
       "\n",
       "                                          title_text  \n",
       "0  Due to the recent outbreak for the Coronavirus...  \n",
       "1  missing Hydroxychloroquine has been shown to h...  \n",
       "2  missing Fact: Hydroxychloroquine has been show...  \n",
       "3  missing The Corona virus is a man made virus c...  \n",
       "4  missing Doesn’t @BillGates finance research at...  "
      ]
     },
     "execution_count": 11,
     "metadata": {},
     "output_type": "execute_result"
    }
   ],
   "source": [
    "df.head()"
   ]
  },
  {
   "cell_type": "code",
   "execution_count": 12,
   "id": "330943d3",
   "metadata": {},
   "outputs": [
    {
     "data": {
      "text/plain": [
       "(1164, 5)"
      ]
     },
     "execution_count": 12,
     "metadata": {},
     "output_type": "execute_result"
    }
   ],
   "source": [
    "df.shape"
   ]
  },
  {
   "cell_type": "code",
   "execution_count": 13,
   "id": "032702ca",
   "metadata": {},
   "outputs": [
    {
     "data": {
      "text/plain": [
       "'missing The Corona virus is a man made virus created in a Wuhan laboratory. Ask @BillGates who financed it.'"
      ]
     },
     "execution_count": 13,
     "metadata": {},
     "output_type": "execute_result"
    }
   ],
   "source": [
    "df['title_text'][3]"
   ]
  },
  {
   "cell_type": "code",
   "execution_count": 14,
   "id": "52dcd88f",
   "metadata": {},
   "outputs": [
    {
     "data": {
      "text/plain": [
       "'missing the corona virus is a man made virus created in a wuhan laboratory. ask @billgates who financed it.'"
      ]
     },
     "execution_count": 14,
     "metadata": {},
     "output_type": "execute_result"
    }
   ],
   "source": [
    "def preprocessor(text):\n",
    "    text = re.sub('<[^>]*>','', text)\n",
    "    text = re.sub(r'<[^w\\s]','', text)\n",
    "    text = re.sub(r'[\\n]','', text)\n",
    "    text = text.lower()\n",
    "    return text\n",
    "\n",
    "df['title_text'] = df['title_text'].apply(preprocessor)\n",
    "df['title_text'][3]\n",
    "        \n",
    "    "
   ]
  },
  {
   "cell_type": "code",
   "execution_count": 15,
   "id": "5b6b158e",
   "metadata": {},
   "outputs": [],
   "source": [
    "porter = PorterStemmer()\n",
    "def tokenizer_porter(text):\n",
    "    return [porter.stem(word) for word in text.split()]"
   ]
  },
  {
   "cell_type": "code",
   "execution_count": 19,
   "id": "92d8ba13",
   "metadata": {},
   "outputs": [],
   "source": [
    "import pandas as pd\n",
    "from sklearn.feature_extraction.text import TfidfVectorizer\n",
    "from nltk.stem import PorterStemmer\n",
    "from nltk.tokenize import word_tokenize\n",
    "\n",
    "\n",
    "def tokenize_porter(text):\n",
    "    porter = PorterStemmer()\n",
    "    return [porter.stem(word) for word in word_tokenize(text)]\n",
    "\n",
    "\n",
    "df = pd.DataFrame({'title_text': [\"Example text\", \"Another title\"], 'label': [0, 1]})\n",
    "\n",
    "\n",
    "tfidf = TfidfVectorizer(strip_accents='unicode',\n",
    "                         lowercase=True,\n",
    "                         preprocessor=None,\n",
    "                         tokenizer=tokenize_porter,\n",
    "                         use_idf=True,\n",
    "                         norm='l2',\n",
    "                         smooth_idf=True)\n",
    "\n",
    "\n",
    "X = tfidf.fit_transform(df['title_text'])\n",
    "y = df.label.values\n"
   ]
  },
  {
   "cell_type": "code",
   "execution_count": 20,
   "id": "6a042789",
   "metadata": {},
   "outputs": [
    {
     "data": {
      "text/plain": [
       "(2, 4)"
      ]
     },
     "execution_count": 20,
     "metadata": {},
     "output_type": "execute_result"
    }
   ],
   "source": [
    "X.shape"
   ]
  },
  {
   "cell_type": "code",
   "execution_count": 23,
   "id": "86c4db01",
   "metadata": {},
   "outputs": [],
   "source": [
    "X_train, X_test, y_train, y_test = train_test_split(X, y, random_state=0, \\\n",
    "                                                    test_size=0.3, shuffle=False)"
   ]
  },
  {
   "cell_type": "code",
   "execution_count": null,
   "id": "31b794ec",
   "metadata": {},
   "outputs": [],
   "source": [
    "clf = LogisticRegressionCV(cv=5, scoring='accuracy', random_state=0, n_jobs=-1, \n",
    "                           verbose=0, max_iter=300)\n",
    "clf.fit(X_train, y_train)\n",
    "fake_news_model = open('fake_news_model.sav', 'wb')\n",
    "pickle.dump(clf, fake_news_model)\n",
    "fake_news_model.close()"
   ]
  },
  {
   "cell_type": "code",
   "execution_count": null,
   "id": "4fa51cef",
   "metadata": {},
   "outputs": [],
   "source": [
    "clf.predict(X_test[5])"
   ]
  },
  {
   "cell_type": "code",
   "execution_count": null,
   "id": "0381a697",
   "metadata": {},
   "outputs": [],
   "source": []
  }
 ],
 "metadata": {
  "kernelspec": {
   "display_name": "Python 3 (ipykernel)",
   "language": "python",
   "name": "python3"
  },
  "language_info": {
   "codemirror_mode": {
    "name": "ipython",
    "version": 3
   },
   "file_extension": ".py",
   "mimetype": "text/x-python",
   "name": "python",
   "nbconvert_exporter": "python",
   "pygments_lexer": "ipython3",
   "version": "3.11.5"
  }
 },
 "nbformat": 4,
 "nbformat_minor": 5
}
